{
 "cells": [
  {
   "cell_type": "markdown",
   "source": [
    "# 住户信息预测房屋是否屋主所有案例\n",
    "地产公司在做房屋的租售业务之余，也进行住户与房屋相关数据的调查，在数据库中，存在如图所示的调研数据。\n",
    "\n",
    "1. 完成数据集读取；\n",
    "2. 数据预处理（删除缺失值）；\n",
    "3. onehot编码；\n",
    "    - onehot特征列\n",
    "    - 构建独热编码器\n",
    "    - 训练独热编码器，得到转换规则\n",
    "    - 独热数据转换\n",
    "    - 构建数值特征列\n",
    "    - 合并独热特征与数值特征\n",
    "4. 构建逻辑回归模型并训练；\n",
    "5. 完成K折交叉检验\n",
    "6. 完成模型预测。\n",
    "\n",
    "[在Github中查看](https://github.com/lty2002/data-mining-course/blob/main/exp04/04-main.ipynb)"
   ],
   "metadata": {
    "collapsed": false
   }
  },
  {
   "cell_type": "code",
   "execution_count": 29,
   "outputs": [],
   "source": [
    "import pandas as pd"
   ],
   "metadata": {
    "collapsed": false,
    "ExecuteTime": {
     "end_time": "2023-05-20T17:59:13.676023Z",
     "start_time": "2023-05-20T17:59:13.664462Z"
    }
   }
  },
  {
   "cell_type": "code",
   "execution_count": 30,
   "outputs": [
    {
     "data": {
      "text/plain": "       Age     Education Level Gender Home Ownership Internet Connection   \n0     33.0           Doctorate   Male            Own             Dial-Up  \\\n1     47.0           Doctorate   Male            Own                 DSL   \n2      NaN           Doctorate   Male            Own                 DSL   \n3     35.0   Bachelor's Degree   Male            Own         Cable Modem   \n4     32.0   Bachelor's Degree   Male            Own         Cable Modem   \n...    ...                 ...    ...            ...                 ...   \n3182  27.0     Master's Degree   Male           Rent                 DSL   \n3183  45.0  Associate's Degree   Male            Own             Dial-Up   \n3184  38.0     Master's Degree   Male            Own                IDSN   \n3185  31.0     Master's Degree   Male           Rent                IDSN   \n3186  39.0     Master's Degree   Male           Rent             Dial-Up   \n\n     Marital Status  Movie Selector  Num Bathrooms  Num Bedrooms  Num Cars   \n0           Married  Spouse/Partner            2.5             3       1.0  \\\n1           Married  Spouse/Partner            2.0             2       2.0   \n2           Married  Spouse/Partner            2.5             4       2.0   \n3           Married              Me            2.5             4       2.0   \n4           Married              Me            3.5             5       2.0   \n...             ...             ...            ...           ...       ...   \n3182  Never Married              Me            1.0             1       2.0   \n3183        Married  Spouse/Partner            1.0             1       2.0   \n3184        Married              Me            1.5             3       2.0   \n3185        Married              Me            1.0             1       2.0   \n3186  Never Married              Me            1.0             1       1.0   \n\n      ...  Num TVs  PPV Freq Prerec Buying Freq Prerec Format   \n0     ...      2.0    Rarely            Monthly           DVD  \\\n1     ...      1.0     Never            Monthly           DVD   \n2     ...      2.0     Never             Rarely           DVD   \n3     ...      2.0    Rarely             Rarely           DVD   \n4     ...      3.0     Never             Rarely           DVD   \n...   ...      ...       ...                ...           ...   \n3182  ...      2.0     Never            Monthly           DVD   \n3183  ...      1.0    Rarely             Rarely           DVD   \n3184  ...      4.0     Never             Rarely           DVD   \n3185  ...      2.0     Never             Rarely           DVD   \n3186  ...      1.0     Never             Rarely           DVD   \n\n     Prerec Renting Freq Prerec Viewing Freq CustomerID  Theater Freq   \n0                 Rarely             Monthly     877687       Monthly  \\\n1                Monthly              Weekly     877723        Rarely   \n2                 Weekly              Weekly     877757        Rarely   \n3                Monthly             Monthly     877792        Rarely   \n4                Monthly             Monthly     877840       Monthly   \n...                  ...                 ...        ...           ...   \n3182             Monthly              Weekly     927084       Monthly   \n3183               Never              Rarely     927147        Rarely   \n3184             Monthly              Weekly     927197        Rarely   \n3185              Weekly              Weekly     927390       Monthly   \n3186              Weekly              Weekly     927818        Rarely   \n\n     TV Movie Freq          TV Signal  \n0          Monthly              Cable  \n1           Weekly              Cable  \n2           Weekly              Cable  \n3            Daily              Cable  \n4           Weekly              Cable  \n...            ...                ...  \n3182        Rarely              Cable  \n3183        Weekly              Cable  \n3184         Never              Cable  \n3185         Daily  Digital Satellite  \n3186        Rarely              Cable  \n\n[3187 rows x 21 columns]",
      "text/html": "<div>\n<style scoped>\n    .dataframe tbody tr th:only-of-type {\n        vertical-align: middle;\n    }\n\n    .dataframe tbody tr th {\n        vertical-align: top;\n    }\n\n    .dataframe thead th {\n        text-align: right;\n    }\n</style>\n<table border=\"1\" class=\"dataframe\">\n  <thead>\n    <tr style=\"text-align: right;\">\n      <th></th>\n      <th>Age</th>\n      <th>Education Level</th>\n      <th>Gender</th>\n      <th>Home Ownership</th>\n      <th>Internet Connection</th>\n      <th>Marital Status</th>\n      <th>Movie Selector</th>\n      <th>Num Bathrooms</th>\n      <th>Num Bedrooms</th>\n      <th>Num Cars</th>\n      <th>...</th>\n      <th>Num TVs</th>\n      <th>PPV Freq</th>\n      <th>Prerec Buying Freq</th>\n      <th>Prerec Format</th>\n      <th>Prerec Renting Freq</th>\n      <th>Prerec Viewing Freq</th>\n      <th>CustomerID</th>\n      <th>Theater Freq</th>\n      <th>TV Movie Freq</th>\n      <th>TV Signal</th>\n    </tr>\n  </thead>\n  <tbody>\n    <tr>\n      <th>0</th>\n      <td>33.0</td>\n      <td>Doctorate</td>\n      <td>Male</td>\n      <td>Own</td>\n      <td>Dial-Up</td>\n      <td>Married</td>\n      <td>Spouse/Partner</td>\n      <td>2.5</td>\n      <td>3</td>\n      <td>1.0</td>\n      <td>...</td>\n      <td>2.0</td>\n      <td>Rarely</td>\n      <td>Monthly</td>\n      <td>DVD</td>\n      <td>Rarely</td>\n      <td>Monthly</td>\n      <td>877687</td>\n      <td>Monthly</td>\n      <td>Monthly</td>\n      <td>Cable</td>\n    </tr>\n    <tr>\n      <th>1</th>\n      <td>47.0</td>\n      <td>Doctorate</td>\n      <td>Male</td>\n      <td>Own</td>\n      <td>DSL</td>\n      <td>Married</td>\n      <td>Spouse/Partner</td>\n      <td>2.0</td>\n      <td>2</td>\n      <td>2.0</td>\n      <td>...</td>\n      <td>1.0</td>\n      <td>Never</td>\n      <td>Monthly</td>\n      <td>DVD</td>\n      <td>Monthly</td>\n      <td>Weekly</td>\n      <td>877723</td>\n      <td>Rarely</td>\n      <td>Weekly</td>\n      <td>Cable</td>\n    </tr>\n    <tr>\n      <th>2</th>\n      <td>NaN</td>\n      <td>Doctorate</td>\n      <td>Male</td>\n      <td>Own</td>\n      <td>DSL</td>\n      <td>Married</td>\n      <td>Spouse/Partner</td>\n      <td>2.5</td>\n      <td>4</td>\n      <td>2.0</td>\n      <td>...</td>\n      <td>2.0</td>\n      <td>Never</td>\n      <td>Rarely</td>\n      <td>DVD</td>\n      <td>Weekly</td>\n      <td>Weekly</td>\n      <td>877757</td>\n      <td>Rarely</td>\n      <td>Weekly</td>\n      <td>Cable</td>\n    </tr>\n    <tr>\n      <th>3</th>\n      <td>35.0</td>\n      <td>Bachelor's Degree</td>\n      <td>Male</td>\n      <td>Own</td>\n      <td>Cable Modem</td>\n      <td>Married</td>\n      <td>Me</td>\n      <td>2.5</td>\n      <td>4</td>\n      <td>2.0</td>\n      <td>...</td>\n      <td>2.0</td>\n      <td>Rarely</td>\n      <td>Rarely</td>\n      <td>DVD</td>\n      <td>Monthly</td>\n      <td>Monthly</td>\n      <td>877792</td>\n      <td>Rarely</td>\n      <td>Daily</td>\n      <td>Cable</td>\n    </tr>\n    <tr>\n      <th>4</th>\n      <td>32.0</td>\n      <td>Bachelor's Degree</td>\n      <td>Male</td>\n      <td>Own</td>\n      <td>Cable Modem</td>\n      <td>Married</td>\n      <td>Me</td>\n      <td>3.5</td>\n      <td>5</td>\n      <td>2.0</td>\n      <td>...</td>\n      <td>3.0</td>\n      <td>Never</td>\n      <td>Rarely</td>\n      <td>DVD</td>\n      <td>Monthly</td>\n      <td>Monthly</td>\n      <td>877840</td>\n      <td>Monthly</td>\n      <td>Weekly</td>\n      <td>Cable</td>\n    </tr>\n    <tr>\n      <th>...</th>\n      <td>...</td>\n      <td>...</td>\n      <td>...</td>\n      <td>...</td>\n      <td>...</td>\n      <td>...</td>\n      <td>...</td>\n      <td>...</td>\n      <td>...</td>\n      <td>...</td>\n      <td>...</td>\n      <td>...</td>\n      <td>...</td>\n      <td>...</td>\n      <td>...</td>\n      <td>...</td>\n      <td>...</td>\n      <td>...</td>\n      <td>...</td>\n      <td>...</td>\n      <td>...</td>\n    </tr>\n    <tr>\n      <th>3182</th>\n      <td>27.0</td>\n      <td>Master's Degree</td>\n      <td>Male</td>\n      <td>Rent</td>\n      <td>DSL</td>\n      <td>Never Married</td>\n      <td>Me</td>\n      <td>1.0</td>\n      <td>1</td>\n      <td>2.0</td>\n      <td>...</td>\n      <td>2.0</td>\n      <td>Never</td>\n      <td>Monthly</td>\n      <td>DVD</td>\n      <td>Monthly</td>\n      <td>Weekly</td>\n      <td>927084</td>\n      <td>Monthly</td>\n      <td>Rarely</td>\n      <td>Cable</td>\n    </tr>\n    <tr>\n      <th>3183</th>\n      <td>45.0</td>\n      <td>Associate's Degree</td>\n      <td>Male</td>\n      <td>Own</td>\n      <td>Dial-Up</td>\n      <td>Married</td>\n      <td>Spouse/Partner</td>\n      <td>1.0</td>\n      <td>1</td>\n      <td>2.0</td>\n      <td>...</td>\n      <td>1.0</td>\n      <td>Rarely</td>\n      <td>Rarely</td>\n      <td>DVD</td>\n      <td>Never</td>\n      <td>Rarely</td>\n      <td>927147</td>\n      <td>Rarely</td>\n      <td>Weekly</td>\n      <td>Cable</td>\n    </tr>\n    <tr>\n      <th>3184</th>\n      <td>38.0</td>\n      <td>Master's Degree</td>\n      <td>Male</td>\n      <td>Own</td>\n      <td>IDSN</td>\n      <td>Married</td>\n      <td>Me</td>\n      <td>1.5</td>\n      <td>3</td>\n      <td>2.0</td>\n      <td>...</td>\n      <td>4.0</td>\n      <td>Never</td>\n      <td>Rarely</td>\n      <td>DVD</td>\n      <td>Monthly</td>\n      <td>Weekly</td>\n      <td>927197</td>\n      <td>Rarely</td>\n      <td>Never</td>\n      <td>Cable</td>\n    </tr>\n    <tr>\n      <th>3185</th>\n      <td>31.0</td>\n      <td>Master's Degree</td>\n      <td>Male</td>\n      <td>Rent</td>\n      <td>IDSN</td>\n      <td>Married</td>\n      <td>Me</td>\n      <td>1.0</td>\n      <td>1</td>\n      <td>2.0</td>\n      <td>...</td>\n      <td>2.0</td>\n      <td>Never</td>\n      <td>Rarely</td>\n      <td>DVD</td>\n      <td>Weekly</td>\n      <td>Weekly</td>\n      <td>927390</td>\n      <td>Monthly</td>\n      <td>Daily</td>\n      <td>Digital Satellite</td>\n    </tr>\n    <tr>\n      <th>3186</th>\n      <td>39.0</td>\n      <td>Master's Degree</td>\n      <td>Male</td>\n      <td>Rent</td>\n      <td>Dial-Up</td>\n      <td>Never Married</td>\n      <td>Me</td>\n      <td>1.0</td>\n      <td>1</td>\n      <td>1.0</td>\n      <td>...</td>\n      <td>1.0</td>\n      <td>Never</td>\n      <td>Rarely</td>\n      <td>DVD</td>\n      <td>Weekly</td>\n      <td>Weekly</td>\n      <td>927818</td>\n      <td>Rarely</td>\n      <td>Rarely</td>\n      <td>Cable</td>\n    </tr>\n  </tbody>\n</table>\n<p>3187 rows × 21 columns</p>\n</div>"
     },
     "execution_count": 30,
     "metadata": {},
     "output_type": "execute_result"
    }
   ],
   "source": [
    "data = pd.read_csv('使用住户信息预测房屋是否屋主所有.csv')\n",
    "data"
   ],
   "metadata": {
    "collapsed": false,
    "ExecuteTime": {
     "end_time": "2023-05-20T17:59:27.908045Z",
     "start_time": "2023-05-20T17:59:27.888492Z"
    }
   }
  },
  {
   "cell_type": "code",
   "execution_count": 31,
   "outputs": [
    {
     "data": {
      "text/plain": "       Age     Education Level Gender Home Ownership     Internet Connection   \n0     33.0           Doctorate   Male            Own                 Dial-Up  \\\n1     47.0           Doctorate   Male            Own                     DSL   \n3     35.0   Bachelor's Degree   Male            Own             Cable Modem   \n4     32.0   Bachelor's Degree   Male            Own             Cable Modem   \n5     32.0   Bachelor's Degree   Male            Own  No Internet Connection   \n...    ...                 ...    ...            ...                     ...   \n3182  27.0     Master's Degree   Male           Rent                     DSL   \n3183  45.0  Associate's Degree   Male            Own                 Dial-Up   \n3184  38.0     Master's Degree   Male            Own                    IDSN   \n3185  31.0     Master's Degree   Male           Rent                    IDSN   \n3186  39.0     Master's Degree   Male           Rent                 Dial-Up   \n\n     Marital Status  Movie Selector  Num Bathrooms  Num Bedrooms  Num Cars   \n0           Married  Spouse/Partner            2.5             3       1.0  \\\n1           Married  Spouse/Partner            2.0             2       2.0   \n3           Married              Me            2.5             4       2.0   \n4           Married              Me            3.5             5       2.0   \n5           Married              Me            2.5             4       2.0   \n...             ...             ...            ...           ...       ...   \n3182  Never Married              Me            1.0             1       2.0   \n3183        Married  Spouse/Partner            1.0             1       2.0   \n3184        Married              Me            1.5             3       2.0   \n3185        Married              Me            1.0             1       2.0   \n3186  Never Married              Me            1.0             1       1.0   \n\n      ...  Num TVs  PPV Freq Prerec Buying Freq Prerec Format   \n0     ...      2.0    Rarely            Monthly           DVD  \\\n1     ...      1.0     Never            Monthly           DVD   \n3     ...      2.0    Rarely             Rarely           DVD   \n4     ...      3.0     Never             Rarely           DVD   \n5     ...      1.0    Rarely             Rarely           DVD   \n...   ...      ...       ...                ...           ...   \n3182  ...      2.0     Never            Monthly           DVD   \n3183  ...      1.0    Rarely             Rarely           DVD   \n3184  ...      4.0     Never             Rarely           DVD   \n3185  ...      2.0     Never             Rarely           DVD   \n3186  ...      1.0     Never             Rarely           DVD   \n\n     Prerec Renting Freq Prerec Viewing Freq CustomerID  Theater Freq   \n0                 Rarely             Monthly     877687       Monthly  \\\n1                Monthly              Weekly     877723        Rarely   \n3                Monthly             Monthly     877792        Rarely   \n4                Monthly             Monthly     877840       Monthly   \n5                 Weekly              Weekly     877988        Weekly   \n...                  ...                 ...        ...           ...   \n3182             Monthly              Weekly     927084       Monthly   \n3183               Never              Rarely     927147        Rarely   \n3184             Monthly              Weekly     927197        Rarely   \n3185              Weekly              Weekly     927390       Monthly   \n3186              Weekly              Weekly     927818        Rarely   \n\n     TV Movie Freq          TV Signal  \n0          Monthly              Cable  \n1           Weekly              Cable  \n3            Daily              Cable  \n4           Weekly              Cable  \n5           Weekly  Digital Satellite  \n...            ...                ...  \n3182        Rarely              Cable  \n3183        Weekly              Cable  \n3184         Never              Cable  \n3185         Daily  Digital Satellite  \n3186        Rarely              Cable  \n\n[3085 rows x 21 columns]",
      "text/html": "<div>\n<style scoped>\n    .dataframe tbody tr th:only-of-type {\n        vertical-align: middle;\n    }\n\n    .dataframe tbody tr th {\n        vertical-align: top;\n    }\n\n    .dataframe thead th {\n        text-align: right;\n    }\n</style>\n<table border=\"1\" class=\"dataframe\">\n  <thead>\n    <tr style=\"text-align: right;\">\n      <th></th>\n      <th>Age</th>\n      <th>Education Level</th>\n      <th>Gender</th>\n      <th>Home Ownership</th>\n      <th>Internet Connection</th>\n      <th>Marital Status</th>\n      <th>Movie Selector</th>\n      <th>Num Bathrooms</th>\n      <th>Num Bedrooms</th>\n      <th>Num Cars</th>\n      <th>...</th>\n      <th>Num TVs</th>\n      <th>PPV Freq</th>\n      <th>Prerec Buying Freq</th>\n      <th>Prerec Format</th>\n      <th>Prerec Renting Freq</th>\n      <th>Prerec Viewing Freq</th>\n      <th>CustomerID</th>\n      <th>Theater Freq</th>\n      <th>TV Movie Freq</th>\n      <th>TV Signal</th>\n    </tr>\n  </thead>\n  <tbody>\n    <tr>\n      <th>0</th>\n      <td>33.0</td>\n      <td>Doctorate</td>\n      <td>Male</td>\n      <td>Own</td>\n      <td>Dial-Up</td>\n      <td>Married</td>\n      <td>Spouse/Partner</td>\n      <td>2.5</td>\n      <td>3</td>\n      <td>1.0</td>\n      <td>...</td>\n      <td>2.0</td>\n      <td>Rarely</td>\n      <td>Monthly</td>\n      <td>DVD</td>\n      <td>Rarely</td>\n      <td>Monthly</td>\n      <td>877687</td>\n      <td>Monthly</td>\n      <td>Monthly</td>\n      <td>Cable</td>\n    </tr>\n    <tr>\n      <th>1</th>\n      <td>47.0</td>\n      <td>Doctorate</td>\n      <td>Male</td>\n      <td>Own</td>\n      <td>DSL</td>\n      <td>Married</td>\n      <td>Spouse/Partner</td>\n      <td>2.0</td>\n      <td>2</td>\n      <td>2.0</td>\n      <td>...</td>\n      <td>1.0</td>\n      <td>Never</td>\n      <td>Monthly</td>\n      <td>DVD</td>\n      <td>Monthly</td>\n      <td>Weekly</td>\n      <td>877723</td>\n      <td>Rarely</td>\n      <td>Weekly</td>\n      <td>Cable</td>\n    </tr>\n    <tr>\n      <th>3</th>\n      <td>35.0</td>\n      <td>Bachelor's Degree</td>\n      <td>Male</td>\n      <td>Own</td>\n      <td>Cable Modem</td>\n      <td>Married</td>\n      <td>Me</td>\n      <td>2.5</td>\n      <td>4</td>\n      <td>2.0</td>\n      <td>...</td>\n      <td>2.0</td>\n      <td>Rarely</td>\n      <td>Rarely</td>\n      <td>DVD</td>\n      <td>Monthly</td>\n      <td>Monthly</td>\n      <td>877792</td>\n      <td>Rarely</td>\n      <td>Daily</td>\n      <td>Cable</td>\n    </tr>\n    <tr>\n      <th>4</th>\n      <td>32.0</td>\n      <td>Bachelor's Degree</td>\n      <td>Male</td>\n      <td>Own</td>\n      <td>Cable Modem</td>\n      <td>Married</td>\n      <td>Me</td>\n      <td>3.5</td>\n      <td>5</td>\n      <td>2.0</td>\n      <td>...</td>\n      <td>3.0</td>\n      <td>Never</td>\n      <td>Rarely</td>\n      <td>DVD</td>\n      <td>Monthly</td>\n      <td>Monthly</td>\n      <td>877840</td>\n      <td>Monthly</td>\n      <td>Weekly</td>\n      <td>Cable</td>\n    </tr>\n    <tr>\n      <th>5</th>\n      <td>32.0</td>\n      <td>Bachelor's Degree</td>\n      <td>Male</td>\n      <td>Own</td>\n      <td>No Internet Connection</td>\n      <td>Married</td>\n      <td>Me</td>\n      <td>2.5</td>\n      <td>4</td>\n      <td>2.0</td>\n      <td>...</td>\n      <td>1.0</td>\n      <td>Rarely</td>\n      <td>Rarely</td>\n      <td>DVD</td>\n      <td>Weekly</td>\n      <td>Weekly</td>\n      <td>877988</td>\n      <td>Weekly</td>\n      <td>Weekly</td>\n      <td>Digital Satellite</td>\n    </tr>\n    <tr>\n      <th>...</th>\n      <td>...</td>\n      <td>...</td>\n      <td>...</td>\n      <td>...</td>\n      <td>...</td>\n      <td>...</td>\n      <td>...</td>\n      <td>...</td>\n      <td>...</td>\n      <td>...</td>\n      <td>...</td>\n      <td>...</td>\n      <td>...</td>\n      <td>...</td>\n      <td>...</td>\n      <td>...</td>\n      <td>...</td>\n      <td>...</td>\n      <td>...</td>\n      <td>...</td>\n      <td>...</td>\n    </tr>\n    <tr>\n      <th>3182</th>\n      <td>27.0</td>\n      <td>Master's Degree</td>\n      <td>Male</td>\n      <td>Rent</td>\n      <td>DSL</td>\n      <td>Never Married</td>\n      <td>Me</td>\n      <td>1.0</td>\n      <td>1</td>\n      <td>2.0</td>\n      <td>...</td>\n      <td>2.0</td>\n      <td>Never</td>\n      <td>Monthly</td>\n      <td>DVD</td>\n      <td>Monthly</td>\n      <td>Weekly</td>\n      <td>927084</td>\n      <td>Monthly</td>\n      <td>Rarely</td>\n      <td>Cable</td>\n    </tr>\n    <tr>\n      <th>3183</th>\n      <td>45.0</td>\n      <td>Associate's Degree</td>\n      <td>Male</td>\n      <td>Own</td>\n      <td>Dial-Up</td>\n      <td>Married</td>\n      <td>Spouse/Partner</td>\n      <td>1.0</td>\n      <td>1</td>\n      <td>2.0</td>\n      <td>...</td>\n      <td>1.0</td>\n      <td>Rarely</td>\n      <td>Rarely</td>\n      <td>DVD</td>\n      <td>Never</td>\n      <td>Rarely</td>\n      <td>927147</td>\n      <td>Rarely</td>\n      <td>Weekly</td>\n      <td>Cable</td>\n    </tr>\n    <tr>\n      <th>3184</th>\n      <td>38.0</td>\n      <td>Master's Degree</td>\n      <td>Male</td>\n      <td>Own</td>\n      <td>IDSN</td>\n      <td>Married</td>\n      <td>Me</td>\n      <td>1.5</td>\n      <td>3</td>\n      <td>2.0</td>\n      <td>...</td>\n      <td>4.0</td>\n      <td>Never</td>\n      <td>Rarely</td>\n      <td>DVD</td>\n      <td>Monthly</td>\n      <td>Weekly</td>\n      <td>927197</td>\n      <td>Rarely</td>\n      <td>Never</td>\n      <td>Cable</td>\n    </tr>\n    <tr>\n      <th>3185</th>\n      <td>31.0</td>\n      <td>Master's Degree</td>\n      <td>Male</td>\n      <td>Rent</td>\n      <td>IDSN</td>\n      <td>Married</td>\n      <td>Me</td>\n      <td>1.0</td>\n      <td>1</td>\n      <td>2.0</td>\n      <td>...</td>\n      <td>2.0</td>\n      <td>Never</td>\n      <td>Rarely</td>\n      <td>DVD</td>\n      <td>Weekly</td>\n      <td>Weekly</td>\n      <td>927390</td>\n      <td>Monthly</td>\n      <td>Daily</td>\n      <td>Digital Satellite</td>\n    </tr>\n    <tr>\n      <th>3186</th>\n      <td>39.0</td>\n      <td>Master's Degree</td>\n      <td>Male</td>\n      <td>Rent</td>\n      <td>Dial-Up</td>\n      <td>Never Married</td>\n      <td>Me</td>\n      <td>1.0</td>\n      <td>1</td>\n      <td>1.0</td>\n      <td>...</td>\n      <td>1.0</td>\n      <td>Never</td>\n      <td>Rarely</td>\n      <td>DVD</td>\n      <td>Weekly</td>\n      <td>Weekly</td>\n      <td>927818</td>\n      <td>Rarely</td>\n      <td>Rarely</td>\n      <td>Cable</td>\n    </tr>\n  </tbody>\n</table>\n<p>3085 rows × 21 columns</p>\n</div>"
     },
     "execution_count": 31,
     "metadata": {},
     "output_type": "execute_result"
    }
   ],
   "source": [
    "data = data.dropna()\n",
    "data"
   ],
   "metadata": {
    "collapsed": false
   }
  },
  {
   "cell_type": "code",
   "execution_count": 32,
   "outputs": [],
   "source": [
    "one_hot_cols = ['Gender', 'Internet Connection', 'Marital Status',\n",
    "                'Movie Selector', 'Prerec Format', 'TV Signal',\n",
    "                'Education Level', 'PPV Freq', 'Theater Freq',\n",
    "                'TV Movie Freq', 'Prerec Buying Freq', 'Prerec Renting Freq',\n",
    "                'Prerec Viewing Freq']"
   ],
   "metadata": {
    "collapsed": false
   }
  },
  {
   "cell_type": "code",
   "execution_count": 33,
   "outputs": [],
   "source": [
    "from sklearn.preprocessing import OneHotEncoder"
   ],
   "metadata": {
    "collapsed": false
   }
  },
  {
   "cell_type": "code",
   "execution_count": 34,
   "outputs": [],
   "source": [
    "one_hot_encoder = OneHotEncoder()\n",
    "one_hot_encoder.fit(data[one_hot_cols])\n",
    "one_hot_data = one_hot_encoder.transform(data[one_hot_cols])"
   ],
   "metadata": {
    "collapsed": false
   }
  },
  {
   "cell_type": "code",
   "execution_count": 35,
   "outputs": [],
   "source": [
    "numeric_cols = ['Age', 'Num Bathrooms', 'Num Bedrooms',\n",
    "                'Num Cars', 'Num Children', 'Num TVs']"
   ],
   "metadata": {
    "collapsed": false
   }
  },
  {
   "cell_type": "code",
   "execution_count": 36,
   "outputs": [],
   "source": [
    "from scipy.sparse import hstack"
   ],
   "metadata": {
    "collapsed": false
   }
  },
  {
   "cell_type": "code",
   "execution_count": 37,
   "outputs": [],
   "source": [
    "x = hstack([\n",
    "    one_hot_data,\n",
    "    data[numeric_cols].astype(float).values\n",
    "])\n",
    "y = data['Home Ownership']"
   ],
   "metadata": {
    "collapsed": false
   }
  },
  {
   "cell_type": "code",
   "execution_count": 38,
   "outputs": [],
   "source": [
    "from sklearn.linear_model import LogisticRegression"
   ],
   "metadata": {
    "collapsed": false
   }
  },
  {
   "cell_type": "code",
   "execution_count": 39,
   "outputs": [],
   "source": [
    "lrModel = LogisticRegression()"
   ],
   "metadata": {
    "collapsed": false
   }
  },
  {
   "cell_type": "code",
   "execution_count": 40,
   "outputs": [],
   "source": [
    "from sklearn.model_selection import cross_val_score"
   ],
   "metadata": {
    "collapsed": false
   }
  },
  {
   "cell_type": "code",
   "execution_count": 41,
   "outputs": [
    {
     "name": "stderr",
     "output_type": "stream",
     "text": [
      "/Users/liang/anaconda3/envs/python-course/lib/python3.9/site-packages/sklearn/linear_model/_logistic.py:458: ConvergenceWarning: lbfgs failed to converge (status=1):\n",
      "STOP: TOTAL NO. of ITERATIONS REACHED LIMIT.\n",
      "\n",
      "Increase the number of iterations (max_iter) or scale the data as shown in:\n",
      "    https://scikit-learn.org/stable/modules/preprocessing.html\n",
      "Please also refer to the documentation for alternative solver options:\n",
      "    https://scikit-learn.org/stable/modules/linear_model.html#logistic-regression\n",
      "  n_iter_i = _check_optimize_result(\n",
      "/Users/liang/anaconda3/envs/python-course/lib/python3.9/site-packages/sklearn/linear_model/_logistic.py:458: ConvergenceWarning: lbfgs failed to converge (status=1):\n",
      "STOP: TOTAL NO. of ITERATIONS REACHED LIMIT.\n",
      "\n",
      "Increase the number of iterations (max_iter) or scale the data as shown in:\n",
      "    https://scikit-learn.org/stable/modules/preprocessing.html\n",
      "Please also refer to the documentation for alternative solver options:\n",
      "    https://scikit-learn.org/stable/modules/linear_model.html#logistic-regression\n",
      "  n_iter_i = _check_optimize_result(\n",
      "/Users/liang/anaconda3/envs/python-course/lib/python3.9/site-packages/sklearn/linear_model/_logistic.py:458: ConvergenceWarning: lbfgs failed to converge (status=1):\n",
      "STOP: TOTAL NO. of ITERATIONS REACHED LIMIT.\n",
      "\n",
      "Increase the number of iterations (max_iter) or scale the data as shown in:\n",
      "    https://scikit-learn.org/stable/modules/preprocessing.html\n",
      "Please also refer to the documentation for alternative solver options:\n",
      "    https://scikit-learn.org/stable/modules/linear_model.html#logistic-regression\n",
      "  n_iter_i = _check_optimize_result(\n",
      "/Users/liang/anaconda3/envs/python-course/lib/python3.9/site-packages/sklearn/linear_model/_logistic.py:458: ConvergenceWarning: lbfgs failed to converge (status=1):\n",
      "STOP: TOTAL NO. of ITERATIONS REACHED LIMIT.\n",
      "\n",
      "Increase the number of iterations (max_iter) or scale the data as shown in:\n",
      "    https://scikit-learn.org/stable/modules/preprocessing.html\n",
      "Please also refer to the documentation for alternative solver options:\n",
      "    https://scikit-learn.org/stable/modules/linear_model.html#logistic-regression\n",
      "  n_iter_i = _check_optimize_result(\n",
      "/Users/liang/anaconda3/envs/python-course/lib/python3.9/site-packages/sklearn/linear_model/_logistic.py:458: ConvergenceWarning: lbfgs failed to converge (status=1):\n",
      "STOP: TOTAL NO. of ITERATIONS REACHED LIMIT.\n",
      "\n",
      "Increase the number of iterations (max_iter) or scale the data as shown in:\n",
      "    https://scikit-learn.org/stable/modules/preprocessing.html\n",
      "Please also refer to the documentation for alternative solver options:\n",
      "    https://scikit-learn.org/stable/modules/linear_model.html#logistic-regression\n",
      "  n_iter_i = _check_optimize_result(\n",
      "/Users/liang/anaconda3/envs/python-course/lib/python3.9/site-packages/sklearn/linear_model/_logistic.py:458: ConvergenceWarning: lbfgs failed to converge (status=1):\n",
      "STOP: TOTAL NO. of ITERATIONS REACHED LIMIT.\n",
      "\n",
      "Increase the number of iterations (max_iter) or scale the data as shown in:\n",
      "    https://scikit-learn.org/stable/modules/preprocessing.html\n",
      "Please also refer to the documentation for alternative solver options:\n",
      "    https://scikit-learn.org/stable/modules/linear_model.html#logistic-regression\n",
      "  n_iter_i = _check_optimize_result(\n",
      "/Users/liang/anaconda3/envs/python-course/lib/python3.9/site-packages/sklearn/linear_model/_logistic.py:458: ConvergenceWarning: lbfgs failed to converge (status=1):\n",
      "STOP: TOTAL NO. of ITERATIONS REACHED LIMIT.\n",
      "\n",
      "Increase the number of iterations (max_iter) or scale the data as shown in:\n",
      "    https://scikit-learn.org/stable/modules/preprocessing.html\n",
      "Please also refer to the documentation for alternative solver options:\n",
      "    https://scikit-learn.org/stable/modules/linear_model.html#logistic-regression\n",
      "  n_iter_i = _check_optimize_result(\n",
      "/Users/liang/anaconda3/envs/python-course/lib/python3.9/site-packages/sklearn/linear_model/_logistic.py:458: ConvergenceWarning: lbfgs failed to converge (status=1):\n",
      "STOP: TOTAL NO. of ITERATIONS REACHED LIMIT.\n",
      "\n",
      "Increase the number of iterations (max_iter) or scale the data as shown in:\n",
      "    https://scikit-learn.org/stable/modules/preprocessing.html\n",
      "Please also refer to the documentation for alternative solver options:\n",
      "    https://scikit-learn.org/stable/modules/linear_model.html#logistic-regression\n",
      "  n_iter_i = _check_optimize_result(\n",
      "/Users/liang/anaconda3/envs/python-course/lib/python3.9/site-packages/sklearn/linear_model/_logistic.py:458: ConvergenceWarning: lbfgs failed to converge (status=1):\n",
      "STOP: TOTAL NO. of ITERATIONS REACHED LIMIT.\n",
      "\n",
      "Increase the number of iterations (max_iter) or scale the data as shown in:\n",
      "    https://scikit-learn.org/stable/modules/preprocessing.html\n",
      "Please also refer to the documentation for alternative solver options:\n",
      "    https://scikit-learn.org/stable/modules/linear_model.html#logistic-regression\n",
      "  n_iter_i = _check_optimize_result(\n",
      "/Users/liang/anaconda3/envs/python-course/lib/python3.9/site-packages/sklearn/linear_model/_logistic.py:458: ConvergenceWarning: lbfgs failed to converge (status=1):\n",
      "STOP: TOTAL NO. of ITERATIONS REACHED LIMIT.\n",
      "\n",
      "Increase the number of iterations (max_iter) or scale the data as shown in:\n",
      "    https://scikit-learn.org/stable/modules/preprocessing.html\n",
      "Please also refer to the documentation for alternative solver options:\n",
      "    https://scikit-learn.org/stable/modules/linear_model.html#logistic-regression\n",
      "  n_iter_i = _check_optimize_result(\n"
     ]
    },
    {
     "data": {
      "text/plain": "0.8359832723910392"
     },
     "execution_count": 41,
     "metadata": {},
     "output_type": "execute_result"
    }
   ],
   "source": [
    "cvs = cross_val_score(\n",
    "    lrModel,\n",
    "    x,\n",
    "    y,\n",
    "    cv=10\n",
    ")\n",
    "cvs.mean()"
   ],
   "metadata": {
    "collapsed": false
   }
  }
 ],
 "metadata": {
  "kernelspec": {
   "display_name": "Python 3",
   "language": "python",
   "name": "python3"
  },
  "language_info": {
   "codemirror_mode": {
    "name": "ipython",
    "version": 2
   },
   "file_extension": ".py",
   "mimetype": "text/x-python",
   "name": "python",
   "nbconvert_exporter": "python",
   "pygments_lexer": "ipython2",
   "version": "2.7.6"
  }
 },
 "nbformat": 4,
 "nbformat_minor": 0
}
