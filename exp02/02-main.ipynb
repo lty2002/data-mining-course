{
 "cells": [
  {
   "cell_type": "markdown",
   "source": [
    "# 议员在议案上的投票记录预测其所属党派\n",
    "为了研究不同党派的议员对议题选择的偏向性，某国国会记录了每个议员对每个议题的投票历史，如图所示。现在想根据某个国会议员对每个议题的投票情况，预测该国会议员属于哪个党派。\n",
    "\n",
    "1. 完成数据集读取\n",
    "2. 完成数据集的缺失值填充，把所有放弃投票的值填充为字符串None\n",
    "3. 将所有议题作为分类特征\n",
    "4. 构建分类独热编码器\n",
    "5. 完成数据分类模型构建及训练\n",
    "6. 对模型进行10折交叉检验\n",
    "7. 完成数据分类预测"
   ],
   "metadata": {
    "collapsed": false
   }
  },
  {
   "cell_type": "code",
   "execution_count": 11,
   "outputs": [],
   "source": [
    "import pandas as pd"
   ],
   "metadata": {
    "collapsed": false,
    "ExecuteTime": {
     "end_time": "2023-05-19T14:24:03.730981Z",
     "start_time": "2023-05-19T14:24:03.727759Z"
    }
   }
  },
  {
   "cell_type": "code",
   "execution_count": 12,
   "outputs": [
    {
     "data": {
      "text/plain": "   ID         Name Party Campaign Finance Overhaul   \n0   1  Abercrombie     D                         Y  \\\n1   2     Ackerman     D                         Y   \n2   3     Aderholt     R                         N   \n3   4         Akin     R                         N   \n4   5     Allen T.     D                         Y   \n\n  Unemployment and Tax Benefits Fiscal 2003 Budget Resolution   \n0                             N                             N  \\\n1                             N                             N   \n2                             Y                             Y   \n3                             Y                             Y   \n4                             N                             N   \n\n  Permanent Tax Cuts Food Stamps Nuclear Waste   \n0                  N           Y             N  \\\n1                  N           Y             N   \n2                  Y           N             Y   \n3                  Y           N             Y   \n4                  N           Y             Y   \n\n  Fiscal 2003 Defense Authorization  ... Estate Tax Repeal   \n0                                 N  ...                 Y  \\\n1                                 N  ...                 N   \n2                                 Y  ...                 Y   \n3                                 Y  ...                 Y   \n4                                 N  ...                 N   \n\n  Married Couples Tax Relief Late Term Abortion Ban Homeland Sec/Union Memb   \n0                          Y                      N                       N  \\\n1                          N                      N                       N   \n2                          Y                      Y                       Y   \n3                          Y                      Y                       Y   \n4                          N                      N                       N   \n\n  Homeland Sec/Civil Service Emp Homeland Sec/Whistleblower Protections   \n0                              Y                                      Y  \\\n1                              Y                                      Y   \n2                              N                                      N   \n3                              N                                      N   \n4                              Y                                      Y   \n\n  Andean Trade Abortion Service Refusals Medical Malpractice Awards   \n0            N                         Y                          N  \\\n1            N                         Y                          N   \n2            Y                         N                          Y   \n3            Y                         N                          Y   \n4            N                         Y                          N   \n\n  Military Support for UN Resolution  \n0                                  N  \n1                                  N  \n2                                  N  \n3                                  N  \n4                                  Y  \n\n[5 rows x 23 columns]",
      "text/html": "<div>\n<style scoped>\n    .dataframe tbody tr th:only-of-type {\n        vertical-align: middle;\n    }\n\n    .dataframe tbody tr th {\n        vertical-align: top;\n    }\n\n    .dataframe thead th {\n        text-align: right;\n    }\n</style>\n<table border=\"1\" class=\"dataframe\">\n  <thead>\n    <tr style=\"text-align: right;\">\n      <th></th>\n      <th>ID</th>\n      <th>Name</th>\n      <th>Party</th>\n      <th>Campaign Finance Overhaul</th>\n      <th>Unemployment and Tax Benefits</th>\n      <th>Fiscal 2003 Budget Resolution</th>\n      <th>Permanent Tax Cuts</th>\n      <th>Food Stamps</th>\n      <th>Nuclear Waste</th>\n      <th>Fiscal 2003 Defense Authorization</th>\n      <th>...</th>\n      <th>Estate Tax Repeal</th>\n      <th>Married Couples Tax Relief</th>\n      <th>Late Term Abortion Ban</th>\n      <th>Homeland Sec/Union Memb</th>\n      <th>Homeland Sec/Civil Service Emp</th>\n      <th>Homeland Sec/Whistleblower Protections</th>\n      <th>Andean Trade</th>\n      <th>Abortion Service Refusals</th>\n      <th>Medical Malpractice Awards</th>\n      <th>Military Support for UN Resolution</th>\n    </tr>\n  </thead>\n  <tbody>\n    <tr>\n      <th>0</th>\n      <td>1</td>\n      <td>Abercrombie</td>\n      <td>D</td>\n      <td>Y</td>\n      <td>N</td>\n      <td>N</td>\n      <td>N</td>\n      <td>Y</td>\n      <td>N</td>\n      <td>N</td>\n      <td>...</td>\n      <td>Y</td>\n      <td>Y</td>\n      <td>N</td>\n      <td>N</td>\n      <td>Y</td>\n      <td>Y</td>\n      <td>N</td>\n      <td>Y</td>\n      <td>N</td>\n      <td>N</td>\n    </tr>\n    <tr>\n      <th>1</th>\n      <td>2</td>\n      <td>Ackerman</td>\n      <td>D</td>\n      <td>Y</td>\n      <td>N</td>\n      <td>N</td>\n      <td>N</td>\n      <td>Y</td>\n      <td>N</td>\n      <td>N</td>\n      <td>...</td>\n      <td>N</td>\n      <td>N</td>\n      <td>N</td>\n      <td>N</td>\n      <td>Y</td>\n      <td>Y</td>\n      <td>N</td>\n      <td>Y</td>\n      <td>N</td>\n      <td>N</td>\n    </tr>\n    <tr>\n      <th>2</th>\n      <td>3</td>\n      <td>Aderholt</td>\n      <td>R</td>\n      <td>N</td>\n      <td>Y</td>\n      <td>Y</td>\n      <td>Y</td>\n      <td>N</td>\n      <td>Y</td>\n      <td>Y</td>\n      <td>...</td>\n      <td>Y</td>\n      <td>Y</td>\n      <td>Y</td>\n      <td>Y</td>\n      <td>N</td>\n      <td>N</td>\n      <td>Y</td>\n      <td>N</td>\n      <td>Y</td>\n      <td>N</td>\n    </tr>\n    <tr>\n      <th>3</th>\n      <td>4</td>\n      <td>Akin</td>\n      <td>R</td>\n      <td>N</td>\n      <td>Y</td>\n      <td>Y</td>\n      <td>Y</td>\n      <td>N</td>\n      <td>Y</td>\n      <td>Y</td>\n      <td>...</td>\n      <td>Y</td>\n      <td>Y</td>\n      <td>Y</td>\n      <td>Y</td>\n      <td>N</td>\n      <td>N</td>\n      <td>Y</td>\n      <td>N</td>\n      <td>Y</td>\n      <td>N</td>\n    </tr>\n    <tr>\n      <th>4</th>\n      <td>5</td>\n      <td>Allen T.</td>\n      <td>D</td>\n      <td>Y</td>\n      <td>N</td>\n      <td>N</td>\n      <td>N</td>\n      <td>Y</td>\n      <td>Y</td>\n      <td>N</td>\n      <td>...</td>\n      <td>N</td>\n      <td>N</td>\n      <td>N</td>\n      <td>N</td>\n      <td>Y</td>\n      <td>Y</td>\n      <td>N</td>\n      <td>Y</td>\n      <td>N</td>\n      <td>Y</td>\n    </tr>\n  </tbody>\n</table>\n<p>5 rows × 23 columns</p>\n</div>"
     },
     "execution_count": 12,
     "metadata": {},
     "output_type": "execute_result"
    }
   ],
   "source": [
    "data = pd.read_csv('议案投票.csv')\n",
    "data.head()"
   ],
   "metadata": {
    "collapsed": false,
    "ExecuteTime": {
     "end_time": "2023-05-19T14:36:56.274197Z",
     "start_time": "2023-05-19T14:36:56.258075Z"
    }
   }
  },
  {
   "cell_type": "code",
   "execution_count": 13,
   "outputs": [],
   "source": [
    "features = data.columns[3:].tolist()"
   ],
   "metadata": {
    "collapsed": false,
    "ExecuteTime": {
     "end_time": "2023-05-19T14:45:25.653716Z",
     "start_time": "2023-05-19T14:45:25.651606Z"
    }
   }
  },
  {
   "cell_type": "code",
   "execution_count": 14,
   "outputs": [],
   "source": [
    "from sklearn.preprocessing import OneHotEncoder"
   ],
   "metadata": {
    "collapsed": false
   }
  },
  {
   "cell_type": "code",
   "execution_count": 15,
   "outputs": [],
   "source": [
    "one_hot_encoder = OneHotEncoder()\n",
    "one_hot_encoder.fit(data[features])\n",
    "one_hot_data = one_hot_encoder.transform(data[features])"
   ],
   "metadata": {
    "collapsed": false
   }
  },
  {
   "cell_type": "code",
   "execution_count": 16,
   "outputs": [],
   "source": [
    "from sklearn.naive_bayes import BernoulliNB"
   ],
   "metadata": {
    "collapsed": false
   }
  },
  {
   "cell_type": "code",
   "execution_count": 17,
   "outputs": [],
   "source": [
    "BNBModel = BernoulliNB()"
   ],
   "metadata": {
    "collapsed": false
   }
  },
  {
   "cell_type": "code",
   "execution_count": 18,
   "outputs": [],
   "source": [
    "from sklearn.model_selection import cross_val_score"
   ],
   "metadata": {
    "collapsed": false
   }
  },
  {
   "cell_type": "code",
   "execution_count": 19,
   "outputs": [
    {
     "data": {
      "text/plain": "0.9908562367864693"
     },
     "execution_count": 19,
     "metadata": {},
     "output_type": "execute_result"
    }
   ],
   "source": [
    "cvs = cross_val_score(\n",
    "    BNBModel,\n",
    "    one_hot_data,\n",
    "    data['Party'],\n",
    "    cv=10\n",
    ")\n",
    "cvs.mean()"
   ],
   "metadata": {
    "collapsed": false
   }
  }
 ],
 "metadata": {
  "kernelspec": {
   "display_name": "Python 3",
   "language": "python",
   "name": "python3"
  },
  "language_info": {
   "codemirror_mode": {
    "name": "ipython",
    "version": 2
   },
   "file_extension": ".py",
   "mimetype": "text/x-python",
   "name": "python",
   "nbconvert_exporter": "python",
   "pygments_lexer": "ipython2",
   "version": "2.7.6"
  }
 },
 "nbformat": 4,
 "nbformat_minor": 0
}
