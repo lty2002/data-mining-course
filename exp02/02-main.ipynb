{
 "cells": [
  {
   "cell_type": "markdown",
   "metadata": {},
   "source": [
    "# 议员在议案上的投票记录预测其所属党派\n",
    "为了研究不同党派的议员对议题选择的偏向性，某国国会记录了每个议员对每个议题的投票历史，如图所示。现在想根据某个国会议员对每个议题的投票情况，预测该国会议员属于哪个党派。\n",
    "\n",
    "1. 完成数据集读取\n",
    "2. 完成数据集的缺失值填充，把所有放弃投票的值填充为字符串None\n",
    "3. 将所有议题作为分类特征\n",
    "4. 构建分类独热编码器\n",
    "5. 完成数据分类模型构建及训练\n",
    "6. 对模型进行10折交叉检验\n",
    "7. 完成数据分类预测\n",
    "\n",
    "[在Github中查看](https://github.com/lty2002/data-mining-course/blob/main/exp02/02-main.ipynb)"
   ]
  },
  {
   "cell_type": "code",
   "execution_count": 11,
   "metadata": {
    "ExecuteTime": {
     "end_time": "2023-05-19T14:24:03.730981Z",
     "start_time": "2023-05-19T14:24:03.727759Z"
    }
   },
   "outputs": [],
   "source": [
    "import pandas as pd"
   ]
  },
  {
   "cell_type": "code",
   "execution_count": 12,
   "metadata": {
    "ExecuteTime": {
     "end_time": "2023-05-19T14:36:56.274197Z",
     "start_time": "2023-05-19T14:36:56.258075Z"
    }
   },
   "outputs": [
    {
     "data": {
      "text/html": [
       "<div>\n",
       "<style scoped>\n",
       "    .dataframe tbody tr th:only-of-type {\n",
       "        vertical-align: middle;\n",
       "    }\n",
       "\n",
       "    .dataframe tbody tr th {\n",
       "        vertical-align: top;\n",
       "    }\n",
       "\n",
       "    .dataframe thead th {\n",
       "        text-align: right;\n",
       "    }\n",
       "</style>\n",
       "<table border=\"1\" class=\"dataframe\">\n",
       "  <thead>\n",
       "    <tr style=\"text-align: right;\">\n",
       "      <th></th>\n",
       "      <th>ID</th>\n",
       "      <th>Name</th>\n",
       "      <th>Party</th>\n",
       "      <th>Campaign Finance Overhaul</th>\n",
       "      <th>Unemployment and Tax Benefits</th>\n",
       "      <th>Fiscal 2003 Budget Resolution</th>\n",
       "      <th>Permanent Tax Cuts</th>\n",
       "      <th>Food Stamps</th>\n",
       "      <th>Nuclear Waste</th>\n",
       "      <th>Fiscal 2003 Defense Authorization</th>\n",
       "      <th>...</th>\n",
       "      <th>Estate Tax Repeal</th>\n",
       "      <th>Married Couples Tax Relief</th>\n",
       "      <th>Late Term Abortion Ban</th>\n",
       "      <th>Homeland Sec/Union Memb</th>\n",
       "      <th>Homeland Sec/Civil Service Emp</th>\n",
       "      <th>Homeland Sec/Whistleblower Protections</th>\n",
       "      <th>Andean Trade</th>\n",
       "      <th>Abortion Service Refusals</th>\n",
       "      <th>Medical Malpractice Awards</th>\n",
       "      <th>Military Support for UN Resolution</th>\n",
       "    </tr>\n",
       "  </thead>\n",
       "  <tbody>\n",
       "    <tr>\n",
       "      <th>0</th>\n",
       "      <td>1</td>\n",
       "      <td>Abercrombie</td>\n",
       "      <td>D</td>\n",
       "      <td>Y</td>\n",
       "      <td>N</td>\n",
       "      <td>N</td>\n",
       "      <td>N</td>\n",
       "      <td>Y</td>\n",
       "      <td>N</td>\n",
       "      <td>N</td>\n",
       "      <td>...</td>\n",
       "      <td>Y</td>\n",
       "      <td>Y</td>\n",
       "      <td>N</td>\n",
       "      <td>N</td>\n",
       "      <td>Y</td>\n",
       "      <td>Y</td>\n",
       "      <td>N</td>\n",
       "      <td>Y</td>\n",
       "      <td>N</td>\n",
       "      <td>N</td>\n",
       "    </tr>\n",
       "    <tr>\n",
       "      <th>1</th>\n",
       "      <td>2</td>\n",
       "      <td>Ackerman</td>\n",
       "      <td>D</td>\n",
       "      <td>Y</td>\n",
       "      <td>N</td>\n",
       "      <td>N</td>\n",
       "      <td>N</td>\n",
       "      <td>Y</td>\n",
       "      <td>N</td>\n",
       "      <td>N</td>\n",
       "      <td>...</td>\n",
       "      <td>N</td>\n",
       "      <td>N</td>\n",
       "      <td>N</td>\n",
       "      <td>N</td>\n",
       "      <td>Y</td>\n",
       "      <td>Y</td>\n",
       "      <td>N</td>\n",
       "      <td>Y</td>\n",
       "      <td>N</td>\n",
       "      <td>N</td>\n",
       "    </tr>\n",
       "    <tr>\n",
       "      <th>2</th>\n",
       "      <td>3</td>\n",
       "      <td>Aderholt</td>\n",
       "      <td>R</td>\n",
       "      <td>N</td>\n",
       "      <td>Y</td>\n",
       "      <td>Y</td>\n",
       "      <td>Y</td>\n",
       "      <td>N</td>\n",
       "      <td>Y</td>\n",
       "      <td>Y</td>\n",
       "      <td>...</td>\n",
       "      <td>Y</td>\n",
       "      <td>Y</td>\n",
       "      <td>Y</td>\n",
       "      <td>Y</td>\n",
       "      <td>N</td>\n",
       "      <td>N</td>\n",
       "      <td>Y</td>\n",
       "      <td>N</td>\n",
       "      <td>Y</td>\n",
       "      <td>N</td>\n",
       "    </tr>\n",
       "    <tr>\n",
       "      <th>3</th>\n",
       "      <td>4</td>\n",
       "      <td>Akin</td>\n",
       "      <td>R</td>\n",
       "      <td>N</td>\n",
       "      <td>Y</td>\n",
       "      <td>Y</td>\n",
       "      <td>Y</td>\n",
       "      <td>N</td>\n",
       "      <td>Y</td>\n",
       "      <td>Y</td>\n",
       "      <td>...</td>\n",
       "      <td>Y</td>\n",
       "      <td>Y</td>\n",
       "      <td>Y</td>\n",
       "      <td>Y</td>\n",
       "      <td>N</td>\n",
       "      <td>N</td>\n",
       "      <td>Y</td>\n",
       "      <td>N</td>\n",
       "      <td>Y</td>\n",
       "      <td>N</td>\n",
       "    </tr>\n",
       "    <tr>\n",
       "      <th>4</th>\n",
       "      <td>5</td>\n",
       "      <td>Allen T.</td>\n",
       "      <td>D</td>\n",
       "      <td>Y</td>\n",
       "      <td>N</td>\n",
       "      <td>N</td>\n",
       "      <td>N</td>\n",
       "      <td>Y</td>\n",
       "      <td>Y</td>\n",
       "      <td>N</td>\n",
       "      <td>...</td>\n",
       "      <td>N</td>\n",
       "      <td>N</td>\n",
       "      <td>N</td>\n",
       "      <td>N</td>\n",
       "      <td>Y</td>\n",
       "      <td>Y</td>\n",
       "      <td>N</td>\n",
       "      <td>Y</td>\n",
       "      <td>N</td>\n",
       "      <td>Y</td>\n",
       "    </tr>\n",
       "  </tbody>\n",
       "</table>\n",
       "<p>5 rows × 23 columns</p>\n",
       "</div>"
      ],
      "text/plain": [
       "   ID         Name Party Campaign Finance Overhaul   \n",
       "0   1  Abercrombie     D                         Y  \\\n",
       "1   2     Ackerman     D                         Y   \n",
       "2   3     Aderholt     R                         N   \n",
       "3   4         Akin     R                         N   \n",
       "4   5     Allen T.     D                         Y   \n",
       "\n",
       "  Unemployment and Tax Benefits Fiscal 2003 Budget Resolution   \n",
       "0                             N                             N  \\\n",
       "1                             N                             N   \n",
       "2                             Y                             Y   \n",
       "3                             Y                             Y   \n",
       "4                             N                             N   \n",
       "\n",
       "  Permanent Tax Cuts Food Stamps Nuclear Waste   \n",
       "0                  N           Y             N  \\\n",
       "1                  N           Y             N   \n",
       "2                  Y           N             Y   \n",
       "3                  Y           N             Y   \n",
       "4                  N           Y             Y   \n",
       "\n",
       "  Fiscal 2003 Defense Authorization  ... Estate Tax Repeal   \n",
       "0                                 N  ...                 Y  \\\n",
       "1                                 N  ...                 N   \n",
       "2                                 Y  ...                 Y   \n",
       "3                                 Y  ...                 Y   \n",
       "4                                 N  ...                 N   \n",
       "\n",
       "  Married Couples Tax Relief Late Term Abortion Ban Homeland Sec/Union Memb   \n",
       "0                          Y                      N                       N  \\\n",
       "1                          N                      N                       N   \n",
       "2                          Y                      Y                       Y   \n",
       "3                          Y                      Y                       Y   \n",
       "4                          N                      N                       N   \n",
       "\n",
       "  Homeland Sec/Civil Service Emp Homeland Sec/Whistleblower Protections   \n",
       "0                              Y                                      Y  \\\n",
       "1                              Y                                      Y   \n",
       "2                              N                                      N   \n",
       "3                              N                                      N   \n",
       "4                              Y                                      Y   \n",
       "\n",
       "  Andean Trade Abortion Service Refusals Medical Malpractice Awards   \n",
       "0            N                         Y                          N  \\\n",
       "1            N                         Y                          N   \n",
       "2            Y                         N                          Y   \n",
       "3            Y                         N                          Y   \n",
       "4            N                         Y                          N   \n",
       "\n",
       "  Military Support for UN Resolution  \n",
       "0                                  N  \n",
       "1                                  N  \n",
       "2                                  N  \n",
       "3                                  N  \n",
       "4                                  Y  \n",
       "\n",
       "[5 rows x 23 columns]"
      ]
     },
     "execution_count": 12,
     "metadata": {},
     "output_type": "execute_result"
    }
   ],
   "source": [
    "data = pd.read_csv('议案投票.csv')\n",
    "data.head()"
   ]
  },
  {
   "cell_type": "code",
   "execution_count": 13,
   "metadata": {
    "ExecuteTime": {
     "end_time": "2023-05-19T14:45:25.653716Z",
     "start_time": "2023-05-19T14:45:25.651606Z"
    }
   },
   "outputs": [],
   "source": [
    "features = data.columns[3:].tolist()"
   ]
  },
  {
   "cell_type": "code",
   "execution_count": 14,
   "metadata": {},
   "outputs": [],
   "source": [
    "from sklearn.preprocessing import OneHotEncoder"
   ]
  },
  {
   "cell_type": "code",
   "execution_count": 15,
   "metadata": {},
   "outputs": [],
   "source": [
    "one_hot_encoder = OneHotEncoder()\n",
    "one_hot_encoder.fit(data[features])\n",
    "one_hot_data = one_hot_encoder.transform(data[features])"
   ]
  },
  {
   "cell_type": "code",
   "execution_count": 16,
   "metadata": {},
   "outputs": [],
   "source": [
    "from sklearn.naive_bayes import BernoulliNB"
   ]
  },
  {
   "cell_type": "code",
   "execution_count": 17,
   "metadata": {},
   "outputs": [],
   "source": [
    "BNBModel = BernoulliNB()"
   ]
  },
  {
   "cell_type": "code",
   "execution_count": 18,
   "metadata": {},
   "outputs": [],
   "source": [
    "from sklearn.model_selection import cross_val_score"
   ]
  },
  {
   "cell_type": "code",
   "execution_count": 19,
   "metadata": {},
   "outputs": [
    {
     "data": {
      "text/plain": [
       "0.9908562367864693"
      ]
     },
     "execution_count": 19,
     "metadata": {},
     "output_type": "execute_result"
    }
   ],
   "source": [
    "cvs = cross_val_score(\n",
    "    BNBModel,\n",
    "    one_hot_data,\n",
    "    data['Party'],\n",
    "    cv=10\n",
    ")\n",
    "cvs.mean()"
   ]
  }
 ],
 "metadata": {
  "kernelspec": {
   "display_name": "Python 3 (ipykernel)",
   "language": "python",
   "name": "python3"
  },
  "language_info": {
   "codemirror_mode": {
    "name": "ipython",
    "version": 3
   },
   "file_extension": ".py",
   "mimetype": "text/x-python",
   "name": "python",
   "nbconvert_exporter": "python",
   "pygments_lexer": "ipython3",
   "version": "3.9.16"
  }
 },
 "nbformat": 4,
 "nbformat_minor": 1
}
