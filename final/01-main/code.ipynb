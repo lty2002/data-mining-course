{
 "cells": [
  {
   "cell_type": "markdown",
   "id": "d4d54e0f",
   "metadata": {},
   "source": [
    "# 1、导入模块"
   ]
  },
  {
   "cell_type": "code",
   "execution_count": 2,
   "id": "3fa49a8a",
   "metadata": {},
   "outputs": [],
   "source": [
    "import warnings\n",
    "\n",
    "import matplotlib.pyplot as plt\n",
    "import numpy as np\n",
    "import pandas as pd\n",
    "from sklearn.impute import SimpleImputer\n",
    "from sklearn.metrics import mean_squared_error\n",
    "from sklearn.model_selection import train_test_split\n",
    "from sklearn.preprocessing import OneHotEncoder\n",
    "from xgboost.sklearn import XGBRegressor\n",
    "\n",
    "warnings.filterwarnings('ignore')"
   ]
  },
  {
   "cell_type": "markdown",
   "id": "3725e74e",
   "metadata": {},
   "source": [
    "# 2、导入数据"
   ]
  },
  {
   "cell_type": "code",
   "execution_count": 3,
   "id": "8145d496",
   "metadata": {},
   "outputs": [],
   "source": [
    "# 导入数据\n",
    "train = pd.read_csv('happiness_train_complete.csv')\n",
    "test = pd.read_csv('happiness_test_complete.csv')"
   ]
  },
  {
   "cell_type": "markdown",
   "id": "cc271209",
   "metadata": {},
   "source": [
    "# 3、数据预处理"
   ]
  },
  {
   "cell_type": "code",
   "execution_count": 4,
   "id": "d6441e75",
   "metadata": {
    "scrolled": false
   },
   "outputs": [
    {
     "data": {
      "text/plain": "               id    happiness  survey_type     province         city   \ncount  8000.00000  8000.000000  8000.000000  8000.000000  8000.000000  \\\nmean   4000.50000     3.850125     1.405500    15.155375    42.564750   \nstd    2309.54541     0.938228     0.491019     8.917100    27.187404   \nmin       1.00000    -8.000000     1.000000     1.000000     1.000000   \n25%    2000.75000     4.000000     1.000000     7.000000    18.000000   \n50%    4000.50000     4.000000     1.000000    15.000000    42.000000   \n75%    6000.25000     4.000000     2.000000    22.000000    65.000000   \nmax    8000.00000     5.000000     2.000000    31.000000    89.000000   \n\n            county      gender        birth  nationality     religion  ...   \ncount  8000.000000  8000.00000  8000.000000   8000.00000  8000.000000  ...  \\\nmean     70.619000     1.53000  1964.707625      1.37350     0.772250  ...   \nstd      38.747503     0.49913    16.842865      1.52882     1.071459  ...   \nmin       1.000000     1.00000  1921.000000     -8.00000    -8.000000  ...   \n25%      37.000000     1.00000  1952.000000      1.00000     1.000000  ...   \n50%      73.000000     2.00000  1965.000000      1.00000     1.000000  ...   \n75%     104.000000     2.00000  1977.000000      1.00000     1.000000  ...   \nmax     134.000000     2.00000  1997.000000      8.00000     1.000000  ...   \n\n       neighbor_familiarity  public_service_1  public_service_2   \ncount           8000.000000       8000.000000       8000.000000  \\\nmean               3.722250         70.809500         68.170000   \nstd                1.143358         21.184742         20.549943   \nmin               -8.000000         -3.000000         -3.000000   \n25%                3.000000         60.000000         60.000000   \n50%                4.000000         79.000000         70.000000   \n75%                5.000000         80.000000         80.000000   \nmax                5.000000        100.000000        100.000000   \n\n       public_service_3  public_service_4  public_service_5  public_service_6   \ncount       8000.000000       8000.000000       8000.000000       8000.000000  \\\nmean          62.737625         66.320125         62.794187         67.064000   \nstd           24.771319         22.049437         23.463162         21.586817   \nmin           -3.000000         -3.000000         -3.000000         -3.000000   \n25%           50.000000         60.000000         55.000000         60.000000   \n50%           70.000000         70.000000         70.000000         70.000000   \n75%           80.000000         80.000000         80.000000         80.000000   \nmax          100.000000        100.000000        100.000000        100.000000   \n\n       public_service_7  public_service_8  public_service_9  \ncount        8000.00000       8000.000000       8000.000000  \nmean           66.09625         65.626750         67.153750  \nstd            23.08568         23.827493         22.502203  \nmin            -3.00000         -3.000000         -3.000000  \n25%            60.00000         60.000000         60.000000  \n50%            70.00000         70.000000         70.000000  \n75%            80.00000         80.000000         80.000000  \nmax           100.00000        100.000000        100.000000  \n\n[8 rows x 136 columns]",
      "text/html": "<div>\n<style scoped>\n    .dataframe tbody tr th:only-of-type {\n        vertical-align: middle;\n    }\n\n    .dataframe tbody tr th {\n        vertical-align: top;\n    }\n\n    .dataframe thead th {\n        text-align: right;\n    }\n</style>\n<table border=\"1\" class=\"dataframe\">\n  <thead>\n    <tr style=\"text-align: right;\">\n      <th></th>\n      <th>id</th>\n      <th>happiness</th>\n      <th>survey_type</th>\n      <th>province</th>\n      <th>city</th>\n      <th>county</th>\n      <th>gender</th>\n      <th>birth</th>\n      <th>nationality</th>\n      <th>religion</th>\n      <th>...</th>\n      <th>neighbor_familiarity</th>\n      <th>public_service_1</th>\n      <th>public_service_2</th>\n      <th>public_service_3</th>\n      <th>public_service_4</th>\n      <th>public_service_5</th>\n      <th>public_service_6</th>\n      <th>public_service_7</th>\n      <th>public_service_8</th>\n      <th>public_service_9</th>\n    </tr>\n  </thead>\n  <tbody>\n    <tr>\n      <th>count</th>\n      <td>8000.00000</td>\n      <td>8000.000000</td>\n      <td>8000.000000</td>\n      <td>8000.000000</td>\n      <td>8000.000000</td>\n      <td>8000.000000</td>\n      <td>8000.00000</td>\n      <td>8000.000000</td>\n      <td>8000.00000</td>\n      <td>8000.000000</td>\n      <td>...</td>\n      <td>8000.000000</td>\n      <td>8000.000000</td>\n      <td>8000.000000</td>\n      <td>8000.000000</td>\n      <td>8000.000000</td>\n      <td>8000.000000</td>\n      <td>8000.000000</td>\n      <td>8000.00000</td>\n      <td>8000.000000</td>\n      <td>8000.000000</td>\n    </tr>\n    <tr>\n      <th>mean</th>\n      <td>4000.50000</td>\n      <td>3.850125</td>\n      <td>1.405500</td>\n      <td>15.155375</td>\n      <td>42.564750</td>\n      <td>70.619000</td>\n      <td>1.53000</td>\n      <td>1964.707625</td>\n      <td>1.37350</td>\n      <td>0.772250</td>\n      <td>...</td>\n      <td>3.722250</td>\n      <td>70.809500</td>\n      <td>68.170000</td>\n      <td>62.737625</td>\n      <td>66.320125</td>\n      <td>62.794187</td>\n      <td>67.064000</td>\n      <td>66.09625</td>\n      <td>65.626750</td>\n      <td>67.153750</td>\n    </tr>\n    <tr>\n      <th>std</th>\n      <td>2309.54541</td>\n      <td>0.938228</td>\n      <td>0.491019</td>\n      <td>8.917100</td>\n      <td>27.187404</td>\n      <td>38.747503</td>\n      <td>0.49913</td>\n      <td>16.842865</td>\n      <td>1.52882</td>\n      <td>1.071459</td>\n      <td>...</td>\n      <td>1.143358</td>\n      <td>21.184742</td>\n      <td>20.549943</td>\n      <td>24.771319</td>\n      <td>22.049437</td>\n      <td>23.463162</td>\n      <td>21.586817</td>\n      <td>23.08568</td>\n      <td>23.827493</td>\n      <td>22.502203</td>\n    </tr>\n    <tr>\n      <th>min</th>\n      <td>1.00000</td>\n      <td>-8.000000</td>\n      <td>1.000000</td>\n      <td>1.000000</td>\n      <td>1.000000</td>\n      <td>1.000000</td>\n      <td>1.00000</td>\n      <td>1921.000000</td>\n      <td>-8.00000</td>\n      <td>-8.000000</td>\n      <td>...</td>\n      <td>-8.000000</td>\n      <td>-3.000000</td>\n      <td>-3.000000</td>\n      <td>-3.000000</td>\n      <td>-3.000000</td>\n      <td>-3.000000</td>\n      <td>-3.000000</td>\n      <td>-3.00000</td>\n      <td>-3.000000</td>\n      <td>-3.000000</td>\n    </tr>\n    <tr>\n      <th>25%</th>\n      <td>2000.75000</td>\n      <td>4.000000</td>\n      <td>1.000000</td>\n      <td>7.000000</td>\n      <td>18.000000</td>\n      <td>37.000000</td>\n      <td>1.00000</td>\n      <td>1952.000000</td>\n      <td>1.00000</td>\n      <td>1.000000</td>\n      <td>...</td>\n      <td>3.000000</td>\n      <td>60.000000</td>\n      <td>60.000000</td>\n      <td>50.000000</td>\n      <td>60.000000</td>\n      <td>55.000000</td>\n      <td>60.000000</td>\n      <td>60.00000</td>\n      <td>60.000000</td>\n      <td>60.000000</td>\n    </tr>\n    <tr>\n      <th>50%</th>\n      <td>4000.50000</td>\n      <td>4.000000</td>\n      <td>1.000000</td>\n      <td>15.000000</td>\n      <td>42.000000</td>\n      <td>73.000000</td>\n      <td>2.00000</td>\n      <td>1965.000000</td>\n      <td>1.00000</td>\n      <td>1.000000</td>\n      <td>...</td>\n      <td>4.000000</td>\n      <td>79.000000</td>\n      <td>70.000000</td>\n      <td>70.000000</td>\n      <td>70.000000</td>\n      <td>70.000000</td>\n      <td>70.000000</td>\n      <td>70.00000</td>\n      <td>70.000000</td>\n      <td>70.000000</td>\n    </tr>\n    <tr>\n      <th>75%</th>\n      <td>6000.25000</td>\n      <td>4.000000</td>\n      <td>2.000000</td>\n      <td>22.000000</td>\n      <td>65.000000</td>\n      <td>104.000000</td>\n      <td>2.00000</td>\n      <td>1977.000000</td>\n      <td>1.00000</td>\n      <td>1.000000</td>\n      <td>...</td>\n      <td>5.000000</td>\n      <td>80.000000</td>\n      <td>80.000000</td>\n      <td>80.000000</td>\n      <td>80.000000</td>\n      <td>80.000000</td>\n      <td>80.000000</td>\n      <td>80.00000</td>\n      <td>80.000000</td>\n      <td>80.000000</td>\n    </tr>\n    <tr>\n      <th>max</th>\n      <td>8000.00000</td>\n      <td>5.000000</td>\n      <td>2.000000</td>\n      <td>31.000000</td>\n      <td>89.000000</td>\n      <td>134.000000</td>\n      <td>2.00000</td>\n      <td>1997.000000</td>\n      <td>8.00000</td>\n      <td>1.000000</td>\n      <td>...</td>\n      <td>5.000000</td>\n      <td>100.000000</td>\n      <td>100.000000</td>\n      <td>100.000000</td>\n      <td>100.000000</td>\n      <td>100.000000</td>\n      <td>100.000000</td>\n      <td>100.00000</td>\n      <td>100.000000</td>\n      <td>100.000000</td>\n    </tr>\n  </tbody>\n</table>\n<p>8 rows × 136 columns</p>\n</div>"
     },
     "execution_count": 4,
     "metadata": {},
     "output_type": "execute_result"
    }
   ],
   "source": [
    "train.describe()"
   ]
  },
  {
   "cell_type": "markdown",
   "id": "7a62cace",
   "metadata": {},
   "source": [
    "观察后发现许多特征中存在负值，为异常值，应处理(-1 = 不适用; -2 = 不知道; -3 = 拒绝回答; -8 = 无法回答;)"
   ]
  },
  {
   "cell_type": "code",
   "execution_count": 7,
   "id": "14b9e9e5",
   "metadata": {},
   "outputs": [],
   "source": [
    "def preprocessing(train, test):\n",
    "    train = train.loc[train['happiness'] != -8]\n",
    "    happiness = train[\"happiness\"]\n",
    "\n",
    "    # 将train和test连在一起\n",
    "    data = pd.concat([train, test], axis=0, ignore_index=True)\n",
    "    # 将异常值替换为NaN\n",
    "    data.replace([-1, -2, -3, -8], np.nan, inplace=True)\n",
    "    # 处理时间特征\n",
    "    data['survey_time'] = pd.to_datetime(data['survey_time'], format='%Y/%m/%d %H:%M')\n",
    "    data[\"weekday\"] = data[\"survey_time\"].dt.weekday\n",
    "    data[\"year\"] = data[\"survey_time\"].dt.year\n",
    "    data[\"quarter\"] = data[\"survey_time\"].dt.quarter\n",
    "    data[\"hour\"] = data[\"survey_time\"].dt.hour\n",
    "    data[\"month\"] = data[\"survey_time\"].dt.month\n",
    "    # 做问卷时候的年龄\n",
    "    data[\"survey_age\"] = data[\"year\"] - data[\"birth\"]\n",
    "    # 去掉\"happiness\"、\"survey_time\"、\"id\"\n",
    "    data = data.drop([\"happiness\"], axis=1)\n",
    "    data = data.drop([\"survey_time\"], axis=1)\n",
    "    data = data.drop([\"id\"], axis=1)\n",
    "    # 填充数据——非数据值\n",
    "    data[\"edu_other\"] = data[\"edu_other\"].map(lambda x: 0 if pd.isnull(x) else 1)\n",
    "    data[\"property_other\"] = data[\"property_other\"].map(lambda x: 0 if pd.isnull(x) else 1)\n",
    "    data[\"invest_other\"] = data[\"invest_other\"].map(lambda x: 0 if pd.isnull(x) else 1)\n",
    "    # 是否入党\n",
    "    data[\"join_party\"] = data[\"join_party\"].map(lambda x: 0 if pd.isnull(x) else 1)\n",
    "    # 填充数据——缺失值\n",
    "    # 通过观察特征可以发现大多数类别特征的类别数在5个以内，以5为阈值初步区分数字特征与类别特征\n",
    "    data_cat = data.loc[:, list(data.max() <= 5)]\n",
    "    data_num = data.loc[:, list(data.max() > 5)]\n",
    "\n",
    "    imputer_cat = SimpleImputer(strategy=\"most_frequent\")\n",
    "    imputer_num = SimpleImputer(strategy=\"median\")\n",
    "    imputer_cat.fit(data_cat)\n",
    "    imputer_cat_trans = imputer_cat.transform(data_cat)\n",
    "    imputer_num.fit(data_num)\n",
    "    imputer_num_trans = imputer_num.transform(data_num)\n",
    "    data[data_cat.columns] = imputer_cat_trans\n",
    "    data[data_num.columns] = imputer_num_trans\n",
    "    # 出生的年代\n",
    "    data[\"birth_s\"] = data[\"birth\"].map(lambda x: int((x - 1920) / 10))\n",
    "    # 将类别特征中特征值与特征含义没有明显线性关系的特征取出并进行one-hot编码处理\n",
    "    cat_features = data.loc[:,\n",
    "                   ['survey_type', 'province', 'city', 'county', 'gender', 'nationality', 'edu_status', 'political',\n",
    "                    'hukou', 'hukou_loc', 'work_exper', 'work_status', 'work_type', 'work_manage', 'insur_1', 'insur_2',\n",
    "                    'insur_3', 'insur_4', 'car', 'marital', 's_hukou', 's_work_status', 's_work_type', 'f_political',\n",
    "                    'f_work_14', 'm_political', 'm_work_14']]\n",
    "    encoder = OneHotEncoder()\n",
    "    cat_features_1hot = encoder.fit_transform(cat_features.values)\n",
    "    cat_features_1hot = cat_features_1hot.toarray()\n",
    "    cat_features_1hot = pd.DataFrame(cat_features_1hot)\n",
    "    # 将one-hot特征与原始特征合并\n",
    "    data = pd.concat([data, cat_features_1hot], axis=1)\n",
    "    # 删除经one-hot编码处理过的特征\n",
    "    data.drop(['survey_type', 'province', 'city', 'county', 'gender', 'nationality', 'edu_status', 'political', 'hukou',\n",
    "               'hukou_loc', 'work_exper', 'work_status', 'work_type', 'work_manage', 'insur_1', 'insur_2', 'insur_3',\n",
    "               'insur_4', 'car', 'marital', 's_hukou', 's_work_status', 's_work_type', 'f_political', 'f_work_14',\n",
    "               'm_political', 'm_work_14'], axis=1, inplace=True)\n",
    "\n",
    "    X_train_data = data[:train.shape[0]]\n",
    "    X_test_data = data[train.shape[0]:]\n",
    "\n",
    "    X_train = np.array(X_train_data)\n",
    "    y_train = np.array(happiness)\n",
    "    X_test = np.array(X_test_data)\n",
    "\n",
    "    return X_train, y_train, X_test"
   ]
  },
  {
   "cell_type": "markdown",
   "id": "5a2cecd0",
   "metadata": {},
   "source": [
    "# 5、模型训练和评估"
   ]
  },
  {
   "cell_type": "code",
   "execution_count": 9,
   "id": "7dd0b292",
   "metadata": {},
   "outputs": [
    {
     "data": {
      "text/plain": "array([[1.959e+03, 1.000e+00, 1.000e+00, ..., 0.000e+00, 0.000e+00,\n        0.000e+00],\n       [1.992e+03, 1.000e+00, 1.000e+00, ..., 0.000e+00, 0.000e+00,\n        0.000e+00],\n       [1.967e+03, 0.000e+00, 3.000e+00, ..., 0.000e+00, 0.000e+00,\n        0.000e+00],\n       ...,\n       [1.967e+03, 1.000e+00, 1.000e+00, ..., 0.000e+00, 0.000e+00,\n        0.000e+00],\n       [1.978e+03, 1.000e+00, 1.000e+00, ..., 0.000e+00, 0.000e+00,\n        0.000e+00],\n       [1.991e+03, 1.000e+00, 1.000e+00, ..., 1.000e+00, 0.000e+00,\n        0.000e+00]])"
     },
     "execution_count": 9,
     "metadata": {},
     "output_type": "execute_result"
    }
   ],
   "source": [
    "X_train, y_train, X_test = preprocessing(train, test)\n",
    "X_train"
   ]
  },
  {
   "cell_type": "code",
   "execution_count": 15,
   "id": "30af690c",
   "metadata": {},
   "outputs": [],
   "source": [
    "X_train_train, X_train_test, \\\n",
    "    y_train_train, y_train_test = train_test_split(X_train, y_train,\n",
    "                                                   test_size=0.2, random_state=2011141121)"
   ]
  },
  {
   "cell_type": "code",
   "execution_count": 30,
   "outputs": [
    {
     "data": {
      "text/plain": "(array([[1.956e+03, 0.000e+00, 1.000e+00, ..., 0.000e+00, 0.000e+00,\n         0.000e+00],\n        [1.969e+03, 1.000e+00, 1.000e+00, ..., 0.000e+00, 0.000e+00,\n         0.000e+00],\n        [1.976e+03, 1.000e+00, 1.000e+00, ..., 0.000e+00, 0.000e+00,\n         0.000e+00],\n        ...,\n        [1.957e+03, 1.000e+00, 1.000e+00, ..., 0.000e+00, 0.000e+00,\n         0.000e+00],\n        [1.929e+03, 1.000e+00, 1.000e+00, ..., 0.000e+00, 0.000e+00,\n         0.000e+00],\n        [1.987e+03, 1.000e+00, 1.000e+00, ..., 0.000e+00, 0.000e+00,\n         0.000e+00]]),\n array([5, 4, 3, ..., 5, 4, 4]))"
     },
     "execution_count": 30,
     "metadata": {},
     "output_type": "execute_result"
    }
   ],
   "source": [
    "X_train_train, y_train_train"
   ],
   "metadata": {
    "collapsed": false
   }
  },
  {
   "cell_type": "code",
   "execution_count": 31,
   "outputs": [
    {
     "data": {
      "text/plain": "(array([[1.941e+03, 0.000e+00, 1.000e+00, ..., 0.000e+00, 0.000e+00,\n         0.000e+00],\n        [1.946e+03, 1.000e+00, 1.000e+00, ..., 0.000e+00, 0.000e+00,\n         0.000e+00],\n        [1.946e+03, 1.000e+00, 1.000e+00, ..., 0.000e+00, 0.000e+00,\n         0.000e+00],\n        ...,\n        [1.935e+03, 1.000e+00, 1.000e+00, ..., 0.000e+00, 0.000e+00,\n         0.000e+00],\n        [1.968e+03, 1.000e+00, 1.000e+00, ..., 0.000e+00, 0.000e+00,\n         0.000e+00],\n        [1.964e+03, 1.000e+00, 3.000e+00, ..., 0.000e+00, 0.000e+00,\n         0.000e+00]]),\n array([4, 4, 4, ..., 4, 4, 2]))"
     },
     "execution_count": 31,
     "metadata": {},
     "output_type": "execute_result"
    }
   ],
   "source": [
    "X_train_test, y_train_test"
   ],
   "metadata": {
    "collapsed": false
   }
  },
  {
   "cell_type": "code",
   "execution_count": 33,
   "outputs": [
    {
     "data": {
      "text/plain": "(499,\n [10.525129,\n  9.203202,\n  8.060719,\n  7.061203,\n  6.201997,\n  5.452072,\n  4.80102,\n  4.240627,\n  3.751566,\n  3.327907,\n  2.955433,\n  2.63442,\n  2.353517,\n  2.110657,\n  1.902305,\n  1.718907,\n  1.561577,\n  1.422136,\n  1.303808,\n  1.199896,\n  1.110435,\n  1.03147,\n  0.961334,\n  0.900099,\n  0.847758,\n  0.803476,\n  0.762508,\n  0.726674,\n  0.696604,\n  0.670793,\n  0.647323,\n  0.628601,\n  0.611573,\n  0.596727,\n  0.583311,\n  0.571853,\n  0.560975,\n  0.552617,\n  0.54406,\n  0.537064,\n  0.530435,\n  0.525127,\n  0.519691,\n  0.515524,\n  0.511851,\n  0.507514,\n  0.504144,\n  0.50108,\n  0.498932,\n  0.496738,\n  0.494724,\n  0.493158,\n  0.491328,\n  0.489647,\n  0.488382,\n  0.48719,\n  0.486055,\n  0.484454,\n  0.48374,\n  0.482874,\n  0.482563,\n  0.481886,\n  0.480995,\n  0.480116,\n  0.479595,\n  0.478788,\n  0.478532,\n  0.477889,\n  0.477351,\n  0.476812,\n  0.476601,\n  0.476022,\n  0.474969,\n  0.474988,\n  0.47458,\n  0.474259,\n  0.473664,\n  0.472909,\n  0.47297,\n  0.472925,\n  0.47253,\n  0.47228,\n  0.472027,\n  0.47181,\n  0.471452,\n  0.471654,\n  0.471178,\n  0.470674,\n  0.470401,\n  0.470293,\n  0.469775,\n  0.469821,\n  0.469631,\n  0.469054,\n  0.469026,\n  0.468542,\n  0.468201,\n  0.468035,\n  0.467432,\n  0.467483,\n  0.467521,\n  0.467173,\n  0.466903,\n  0.466744,\n  0.466516,\n  0.466123,\n  0.466119,\n  0.465966,\n  0.465731,\n  0.465294,\n  0.464904,\n  0.465075,\n  0.464996,\n  0.464925,\n  0.464835,\n  0.464754,\n  0.464734,\n  0.464721,\n  0.464564,\n  0.464509,\n  0.463947,\n  0.463709,\n  0.463545,\n  0.463681,\n  0.463503,\n  0.463368,\n  0.463219,\n  0.463242,\n  0.462936,\n  0.462963,\n  0.463028,\n  0.462852,\n  0.462945,\n  0.462806,\n  0.46271,\n  0.462632,\n  0.462371,\n  0.462237,\n  0.462217,\n  0.462511,\n  0.462388,\n  0.461908,\n  0.461823,\n  0.461704,\n  0.461577,\n  0.461494,\n  0.461296,\n  0.461316,\n  0.461177,\n  0.46099,\n  0.460819,\n  0.460692,\n  0.460916,\n  0.460683,\n  0.460685,\n  0.460639,\n  0.460561,\n  0.460697,\n  0.460622,\n  0.460924,\n  0.460952,\n  0.46073,\n  0.460581,\n  0.460448,\n  0.460419,\n  0.460607,\n  0.46058,\n  0.460086,\n  0.460026,\n  0.459984,\n  0.459819,\n  0.459917,\n  0.459833,\n  0.459817,\n  0.459703,\n  0.459798,\n  0.459753,\n  0.459651,\n  0.459704,\n  0.45975,\n  0.459591,\n  0.45953,\n  0.459359,\n  0.459452,\n  0.459335,\n  0.459364,\n  0.459179,\n  0.459038,\n  0.459002,\n  0.458832,\n  0.458657,\n  0.45878,\n  0.458585,\n  0.458523,\n  0.45839,\n  0.458541,\n  0.458412,\n  0.458402,\n  0.458445,\n  0.458403,\n  0.458158,\n  0.458086,\n  0.458142,\n  0.458131,\n  0.458323,\n  0.458149,\n  0.458114,\n  0.458106,\n  0.457935,\n  0.458176,\n  0.458143,\n  0.458188,\n  0.458142,\n  0.458056,\n  0.458049,\n  0.458115,\n  0.458148,\n  0.458063,\n  0.457886,\n  0.457821,\n  0.457814,\n  0.458043,\n  0.458178,\n  0.458066,\n  0.458032,\n  0.458,\n  0.458171,\n  0.458265,\n  0.458139,\n  0.458026,\n  0.457832,\n  0.457938,\n  0.458031,\n  0.45802,\n  0.457996,\n  0.458027,\n  0.458133,\n  0.457885,\n  0.457836,\n  0.457714,\n  0.457667,\n  0.457554,\n  0.457291,\n  0.457072,\n  0.457061,\n  0.457432,\n  0.457414,\n  0.457436,\n  0.457356,\n  0.457483,\n  0.457369,\n  0.457361,\n  0.45724,\n  0.457181,\n  0.457217,\n  0.457346,\n  0.457265,\n  0.457159,\n  0.457257,\n  0.457097,\n  0.457106,\n  0.457169,\n  0.457255,\n  0.457271,\n  0.457144,\n  0.457344,\n  0.457094,\n  0.45695,\n  0.456999,\n  0.456755,\n  0.456732,\n  0.456643,\n  0.456979,\n  0.457017,\n  0.457022,\n  0.457009,\n  0.457007,\n  0.45712,\n  0.457059,\n  0.457074,\n  0.457053,\n  0.457054,\n  0.45699,\n  0.457074,\n  0.457082,\n  0.457188,\n  0.457195,\n  0.457111,\n  0.456907,\n  0.456883,\n  0.456836,\n  0.456744,\n  0.456736,\n  0.456749,\n  0.456754,\n  0.456764,\n  0.456647,\n  0.456834,\n  0.456951,\n  0.456913,\n  0.456603,\n  0.456689,\n  0.456642,\n  0.456506,\n  0.456533,\n  0.456521,\n  0.456449,\n  0.456456,\n  0.456467,\n  0.456478,\n  0.456461,\n  0.456595,\n  0.45666,\n  0.45673,\n  0.456656,\n  0.45676,\n  0.45667,\n  0.456584,\n  0.45634,\n  0.456366,\n  0.456393,\n  0.456171,\n  0.456111,\n  0.455896,\n  0.455746,\n  0.455801,\n  0.455949,\n  0.455928,\n  0.455919,\n  0.455931,\n  0.455733,\n  0.455697,\n  0.455539,\n  0.455377,\n  0.45531,\n  0.4552,\n  0.455287,\n  0.455231,\n  0.455202,\n  0.455269,\n  0.455403,\n  0.455426,\n  0.455513,\n  0.455551,\n  0.455502,\n  0.455406,\n  0.45528,\n  0.455161,\n  0.455034,\n  0.455004,\n  0.454915,\n  0.454946,\n  0.454922,\n  0.454944,\n  0.454901,\n  0.454856,\n  0.454847,\n  0.454868,\n  0.454827,\n  0.454798,\n  0.454813,\n  0.4548,\n  0.454783,\n  0.454598,\n  0.454553,\n  0.454844,\n  0.454808,\n  0.454775,\n  0.454917,\n  0.455165,\n  0.455094,\n  0.455204,\n  0.454993,\n  0.454985,\n  0.45511,\n  0.455132,\n  0.455109,\n  0.455144,\n  0.455192,\n  0.45517,\n  0.455117,\n  0.455194,\n  0.455411,\n  0.455502,\n  0.455572,\n  0.455483,\n  0.455511,\n  0.455439,\n  0.455453,\n  0.455487,\n  0.455888,\n  0.455877,\n  0.455788,\n  0.455822,\n  0.455772,\n  0.455704,\n  0.455622,\n  0.455575,\n  0.455637,\n  0.455668,\n  0.455481,\n  0.455395,\n  0.455332,\n  0.45528,\n  0.455308,\n  0.45535,\n  0.455527,\n  0.455482,\n  0.455489,\n  0.455506,\n  0.455265,\n  0.45528,\n  0.455143,\n  0.455138,\n  0.455223,\n  0.455294,\n  0.455379,\n  0.455374,\n  0.455442,\n  0.455178,\n  0.455288,\n  0.4553,\n  0.455356,\n  0.45539,\n  0.455478,\n  0.455449,\n  0.455249,\n  0.4553,\n  0.455151,\n  0.455247,\n  0.455393,\n  0.455325,\n  0.454983,\n  0.455176,\n  0.454904,\n  0.454803,\n  0.454752,\n  0.454821,\n  0.454651,\n  0.454683,\n  0.45469,\n  0.454781,\n  0.454833,\n  0.454717,\n  0.454788,\n  0.454636,\n  0.454447,\n  0.454446,\n  0.454539,\n  0.454295,\n  0.454371,\n  0.454375,\n  0.454359,\n  0.454313,\n  0.454261,\n  0.454232,\n  0.454164,\n  0.454269,\n  0.454246,\n  0.454134,\n  0.454095,\n  0.454052,\n  0.453999,\n  0.454126,\n  0.454228,\n  0.454213,\n  0.454274,\n  0.454303,\n  0.454459,\n  0.454474,\n  0.454441,\n  0.454535,\n  0.454572,\n  0.45467,\n  0.454619,\n  0.454667,\n  0.454699,\n  0.454674,\n  0.454679,\n  0.454769,\n  0.454803,\n  0.454849,\n  0.454868,\n  0.45481,\n  0.454676,\n  0.454705,\n  0.454905,\n  0.454907,\n  0.454751,\n  0.454698,\n  0.454738,\n  0.454689,\n  0.454714,\n  0.454757,\n  0.454866,\n  0.454869,\n  0.45491,\n  0.454901,\n  0.454951])"
     },
     "execution_count": 33,
     "metadata": {},
     "output_type": "execute_result"
    }
   ],
   "source": [
    "model = XGBRegressor(base_score=0.5, booster='gbtree', colsample_bylevel=0.1,\n",
    "                     colsample_bytree=0.971, gamma=0.11, learning_rate=0.069,\n",
    "                     max_delta_step=0, max_depth=3, min_child_weight=1,\n",
    "                     n_estimators=499, n_jobs=-1, nthread=50,\n",
    "                     objective='reg:squarederror', random_state=0, reg_alpha=0.1,\n",
    "                     reg_lambda=1, scale_pos_weight=1, seed=None, subsample=1.0, eval_metric=mean_squared_error)\n",
    "model.fit(X_train_train, y_train_train,\n",
    "          eval_set=[(X_train_test, y_train_test)], verbose=False)\n",
    "loss = model.evals_result()\n",
    "loss = loss['validation_0']['mean_squared_error']\n",
    "len(loss), loss"
   ],
   "metadata": {
    "collapsed": false
   }
  },
  {
   "cell_type": "code",
   "execution_count": 26,
   "id": "5b13d0bb",
   "metadata": {},
   "outputs": [
    {
     "data": {
      "text/plain": "<Figure size 640x480 with 1 Axes>",
      "image/png": "[encoded data removed]"
     },
     "metadata": {},
     "output_type": "display_data"
    }
   ],
   "source": [
    "from matplotlib.font_manager import FontProperties\n",
    "\n",
    "# 设置新罗马字体\n",
    "font = FontProperties(fname='/System/Library/Fonts/Times.ttc', size=14)\n",
    "plt.rcParams['font.family'] = font.get_name()\n",
    "plt.rcParams['font.size'] = font.get_size()\n",
    "\n",
    "plt.figure()\n",
    "plt.subplots_adjust(left=0.14, top=0.96, right=0.97)\n",
    "plt.plot(range(len(loss[50:])), loss[50:], 'r', label=\"loss\")\n",
    "plt.legend(loc=\"upper right\")  # 显示图中的标签\n",
    "plt.xlabel(\"times\")\n",
    "plt.ylabel('loss')\n",
    "plt.savefig('loss-curve.svg', format='svg')\n",
    "plt.show()"
   ]
  },
  {
   "cell_type": "code",
   "execution_count": 27,
   "id": "6d596050",
   "metadata": {},
   "outputs": [
    {
     "data": {
      "text/plain": "      predict\n0           3\n1           3\n2           3\n3           4\n4           3\n...       ...\n2963        4\n2964        3\n2965        4\n2966        4\n2967        4\n\n[2968 rows x 1 columns]",
      "text/html": "<div>\n<style scoped>\n    .dataframe tbody tr th:only-of-type {\n        vertical-align: middle;\n    }\n\n    .dataframe tbody tr th {\n        vertical-align: top;\n    }\n\n    .dataframe thead th {\n        text-align: right;\n    }\n</style>\n<table border=\"1\" class=\"dataframe\">\n  <thead>\n    <tr style=\"text-align: right;\">\n      <th></th>\n      <th>predict</th>\n    </tr>\n  </thead>\n  <tbody>\n    <tr>\n      <th>0</th>\n      <td>3</td>\n    </tr>\n    <tr>\n      <th>1</th>\n      <td>3</td>\n    </tr>\n    <tr>\n      <th>2</th>\n      <td>3</td>\n    </tr>\n    <tr>\n      <th>3</th>\n      <td>4</td>\n    </tr>\n    <tr>\n      <th>4</th>\n      <td>3</td>\n    </tr>\n    <tr>\n      <th>...</th>\n      <td>...</td>\n    </tr>\n    <tr>\n      <th>2963</th>\n      <td>4</td>\n    </tr>\n    <tr>\n      <th>2964</th>\n      <td>3</td>\n    </tr>\n    <tr>\n      <th>2965</th>\n      <td>4</td>\n    </tr>\n    <tr>\n      <th>2966</th>\n      <td>4</td>\n    </tr>\n    <tr>\n      <th>2967</th>\n      <td>4</td>\n    </tr>\n  </tbody>\n</table>\n<p>2968 rows × 1 columns</p>\n</div>"
     },
     "execution_count": 27,
     "metadata": {},
     "output_type": "execute_result"
    }
   ],
   "source": [
    "X_predict = pd.Series(model.predict(X_test)).astype(int)\n",
    "predict_result = pd.DataFrame(X_predict, columns=['predict'])\n",
    "predict_result.to_csv('predict.csv', index=False)\n",
    "predict_result"
   ]
  }
 ],
 "metadata": {
  "kernelspec": {
   "display_name": "Python 3 (ipykernel)",
   "language": "python",
   "name": "python3"
  },
  "language_info": {
   "codemirror_mode": {
    "name": "ipython",
    "version": 3
   },
   "file_extension": ".py",
   "mimetype": "text/x-python",
   "name": "python",
   "nbconvert_exporter": "python",
   "pygments_lexer": "ipython3",
   "version": "3.9.13"
  }
 },
 "nbformat": 4,
 "nbformat_minor": 5
}
